{
  "nbformat": 4,
  "nbformat_minor": 0,
  "metadata": {
    "colab": {
      "provenance": [],
      "authorship_tag": "ABX9TyPBBONGKzFBPG3YU8j6J7Vd",
      "include_colab_link": true
    },
    "kernelspec": {
      "name": "python3",
      "display_name": "Python 3"
    },
    "language_info": {
      "name": "python"
    }
  },
  "cells": [
    {
      "cell_type": "markdown",
      "metadata": {
        "id": "view-in-github",
        "colab_type": "text"
      },
      "source": [
        "<a href=\"https://colab.research.google.com/github/raulaperea-stack/laboratorios/blob/main/Raul_Perea_laboratorio13.ipynb\" target=\"_parent\"><img src=\"https://colab.research.google.com/assets/colab-badge.svg\" alt=\"Open In Colab\"/></a>"
      ]
    },
    {
      "cell_type": "code",
      "execution_count": null,
      "metadata": {
        "colab": {
          "base_uri": "https://localhost:8080/"
        },
        "id": "lCfESsg3sTk6",
        "outputId": "0a3a0ece-1aa1-4009-adcc-b9b51021eac7"
      },
      "outputs": [
        {
          "output_type": "stream",
          "name": "stdout",
          "text": [
            "Frase: 'I love this product, it works perfectly!' | Sentimiento: 0.75\n",
            "Clasificación: Positivo\n",
            "\n",
            "Frase: 'The service was terrible, I will not come back.' | Sentimiento: -0.5\n",
            "Clasificación: Negativo\n",
            "\n",
            "Frase: 'The food was okay, nothing special.' | Sentimiento: 0.4285714285714286\n",
            "Clasificación: Positivo\n",
            "\n"
          ]
        }
      ],
      "source": [
        "\n",
        "from textblob import TextBlob\n",
        "# Importa la clase TextBlob de la librería TextBlob.\n",
        "\n",
        "frases = [\n",
        "    \"I love this product, it works perfectly!\",   # Frase 1: Opinión positiva sobre un producto.\n",
        "    \"The service was terrible, I will not come back.\",  # Frase 2: Opinión negativa sobre un servicio.\n",
        "    \"The food was okay, nothing special.\"  # Frase 3: Opinión neutral sobre una comida.\n",
        "]\n",
        "\n",
        "for frase in frases:\n",
        "\n",
        "    blob = TextBlob(frase)\n",
        "\n",
        "\n",
        "    print(f\"Frase: '{frase}' | Sentimiento: {blob.sentiment.polarity}\")\n",
        "\n",
        "    if blob.sentiment.polarity > 0:\n",
        "\n",
        "        print(\"Clasificación: Positivo\\n\")\n",
        "\n",
        "    elif blob.sentiment.polarity < 0:\n",
        "        print(\"Clasificación: Negativo\\n\")\n",
        "\n",
        "    else:\n",
        "        print(\"Clasificación: Neutral\\n\")\n",
        "\n"
      ]
    },
    {
      "cell_type": "code",
      "source": [
        "from sklearn.feature_extraction.text import TfidfVectorizer\n",
        "\n",
        "from sklearn.naive_bayes import MultinomialNB\n",
        "\n",
        "from sklearn.model_selection import train_test_split\n",
        "\n",
        "frases = [\"I love this!\", \"This is terrible.\", \"Not good, not bad.\", \"Amazing performance!\", \"Worst experience ever.\"]\n",
        "\n",
        "sentimientos = [1, 0, 0, 1, 0]\n",
        "vectorizer = TfidfVectorizer()\n",
        "\n",
        "X = vectorizer.fit_transform(frases)\n",
        "\n",
        "X_train, X_test, y_train, y_test = train_test_split(X, sentimientos, test_size=0.2, random_state=42)\n",
        "modelo = MultinomialNB()\n",
        "\n",
        "modelo.fit(X_train, y_train)\n",
        "print(f\"Precisión del modelo: {modelo.score(X_test, y_test)}\")\n",
        "\n"
      ],
      "metadata": {
        "colab": {
          "base_uri": "https://localhost:8080/"
        },
        "id": "ewLR3wQfyn2S",
        "outputId": "ae57f62d-6c66-461a-d8ea-a3f6b0629462"
      },
      "execution_count": null,
      "outputs": [
        {
          "output_type": "stream",
          "name": "stdout",
          "text": [
            "Precisión del modelo: 0.0\n"
          ]
        }
      ]
    },
    {
      "cell_type": "code",
      "source": [
        "from sklearn import svm\n",
        "\n",
        "from sklearn.naive_bayes import MultinomialNB\n",
        "\n",
        "from sklearn.metrics import accuracy_score\n",
        "frases = [\"I love this!\", \"This is terrible.\", \"Not good, not bad.\", \"Amazing performance!\", \"Worst experience ever.\"]\n",
        "\n",
        "sentimientos = [1, 0, 0, 1, 0]\n",
        "X = TfidfVectorizer().fit_transform(frases)\n",
        "nb_model = MultinomialNB().fit(X, sentimientos)\n",
        "\n",
        "nb_pred = nb_model.predict(X)\n",
        "svm_model = svm.SVC(kernel='linear').fit(X, sentimientos)\n",
        "\n",
        "svm_pred = svm_model.predict(X)\n",
        "print(f\"Precisión Naive Bayes: {accuracy_score(sentimientos, nb_pred)}\")\n",
        "\n",
        "print(f\"Precisión SVM: {accuracy_score(sentimientos, svm_pred)}\")\n"
      ],
      "metadata": {
        "colab": {
          "base_uri": "https://localhost:8080/"
        },
        "id": "zl-owKTB1bdV",
        "outputId": "7a06e792-a1c3-4d25-97c9-c81e4520d71f"
      },
      "execution_count": null,
      "outputs": [
        {
          "output_type": "stream",
          "name": "stdout",
          "text": [
            "Precisión Naive Bayes: 1.0\n",
            "Precisión SVM: 1.0\n"
          ]
        }
      ]
    }
  ]
}